{
 "cells": [
  {
   "cell_type": "code",
   "execution_count": 1,
   "metadata": {},
   "outputs": [
    {
     "name": "stdout",
     "output_type": "stream",
     "text": [
      "Metashape is activated:  True\n"
     ]
    }
   ],
   "source": [
    "import Metashape\n",
    "import os\n",
    "from pathlib import Path\n",
    "\n",
    "from lib.utils import (\n",
    "    check_license, \n",
    "    create_new_project, \n",
    "    save_project,\n",
    "    read_sensors_data,\n",
    "    match_images_sensors,\n",
    ")\n",
    "\n",
    "check_license()"
   ]
  },
  {
   "cell_type": "markdown",
   "metadata": {},
   "source": [
    "***Functions*** (to be moved in lib )"
   ]
  },
  {
   "cell_type": "code",
   "execution_count": null,
   "metadata": {},
   "outputs": [],
   "source": []
  },
  {
   "cell_type": "code",
   "execution_count": 2,
   "metadata": {},
   "outputs": [
    {
     "name": "stdout",
     "output_type": "stream",
     "text": [
      "SaveProject: path = test.psx\n",
      "saved project in 0.022942 sec\n",
      "LoadProject: path = test.psx\n",
      "loaded project in 0.004315 sec\n",
      "AddPhotos\n",
      "Cameras tot: 2\n",
      "Using OPENCV camera model + k3\n",
      "Using OPENCV camera model + k3\n",
      "Sensor associated. Camera: IMG_1289 -> sensor: p2 1\n",
      "Sensor associated. Camera: IMG_2814 -> sensor: p1 0\n",
      "SaveProject: path = test.psx\n",
      "saved project in 0.009002 sec\n",
      "LoadProject: path = test.psx\n",
      "loaded project in 0.002829 sec\n"
     ]
    },
    {
     "name": "stderr",
     "output_type": "stream",
     "text": [
      "Warning: License lost, attempting to recover (license status -21)\n",
      "Warning: Failed to recover license (attempt 1 of 5, license status -21)\n",
      "Warning: Failed to recover license (attempt 2 of 5, license status -21)\n",
      "Warning: Failed to recover license (attempt 3 of 5, license status -21)\n",
      "Warning: Failed to recover license (attempt 4 of 5, license status -21)\n",
      "Warning: Failed to recover license (attempt 5 of 5, license status -17)\n",
      "License successfully recovered\n",
      "Warning: License lost, attempting to recover (license status -21)\n",
      "Warning: Failed to recover license (attempt 1 of 5, license status -21)\n",
      "Warning: Failed to recover license (attempt 2 of 5, license status -21)\n",
      "Warning: Failed to recover license (attempt 3 of 5, license status -21)\n",
      "Warning: Failed to recover license (attempt 4 of 5, license status -21)\n",
      "License successfully recovered\n",
      "Warning: License lost, attempting to recover (license status -21)\n",
      "Warning: Failed to recover license (attempt 1 of 5, license status -21)\n",
      "Warning: Failed to recover license (attempt 2 of 5, license status -21)\n",
      "Warning: Failed to recover license (attempt 3 of 5, license status -21)\n",
      "Warning: Failed to recover license (attempt 4 of 5, license status -21)\n",
      "Warning: Failed to recover license (attempt 5 of 5, license status -43)\n"
     ]
    }
   ],
   "source": [
    "PROJECT_NAME = 'test.psx'\n",
    "CHUNK_NAME = 'test'\n",
    "\n",
    "SENSOR_LIST = ['p1', 'p2']\n",
    "IMG_LIST = ['IMG_2814.jpg', 'IMG_1289.jpg']\n",
    "\n",
    "camera_table = {\n",
    "    IMG_LIST[0]: SENSOR_LIST[0],\n",
    "    IMG_LIST[1]: SENSOR_LIST[1]\n",
    "}\n",
    "\n",
    "doc = create_new_project(PROJECT_NAME, CHUNK_NAME)\n",
    "chunk = doc.chunk\n",
    "\n",
    "chunk.addPhotos(IMG_LIST)  # , layout=Metashape.MultiplaneLayout\n",
    "print(f'Cameras tot: {len(chunk.cameras)}')\n",
    "\n",
    "sensors = read_sensors_data([s + '.txt' for s in SENSOR_LIST])\n",
    "match_images_sensors(chunk, sensors, camera_table)\n",
    "\n",
    "save_project(document=doc, project_name=PROJECT_NAME)\n",
    "\n",
    "\n"
   ]
  },
  {
   "cell_type": "code",
   "execution_count": null,
   "metadata": {},
   "outputs": [],
   "source": []
  },
  {
   "cell_type": "code",
   "execution_count": null,
   "metadata": {},
   "outputs": [],
   "source": []
  },
  {
   "cell_type": "code",
   "execution_count": null,
   "metadata": {},
   "outputs": [],
   "source": [
    "# cams = {}\n",
    "# cams[0] = 'p1'\n",
    "# cams[1] = 'p2'\n"
   ]
  }
 ],
 "metadata": {
  "kernelspec": {
   "display_name": "Python 3.10.6 ('ms-venv': venv)",
   "language": "python",
   "name": "python3"
  },
  "language_info": {
   "codemirror_mode": {
    "name": "ipython",
    "version": 3
   },
   "file_extension": ".py",
   "mimetype": "text/x-python",
   "name": "python",
   "nbconvert_exporter": "python",
   "pygments_lexer": "ipython3",
   "version": "3.10.6"
  },
  "orig_nbformat": 4,
  "vscode": {
   "interpreter": {
    "hash": "9a9435618e670e76bcff95f79290eea3f57bf88d9254a22522ba40803f713828"
   }
  }
 },
 "nbformat": 4,
 "nbformat_minor": 2
}
